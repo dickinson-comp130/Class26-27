{
 "cells": [
  {
   "cell_type": "markdown",
   "metadata": {},
   "source": [
    "# Class 26-28 - String and String Processing Examples\n",
    "**COMP130 - Introduction to Computing**  \n",
    "**Dickinson College**  "
   ]
  },
  {
   "cell_type": "markdown",
   "metadata": {},
   "source": [
    "### `String`s and Offsets (indices)"
   ]
  },
  {
   "cell_type": "code",
   "execution_count": 1,
   "metadata": {},
   "outputs": [
    {
     "name": "stdout",
     "output_type": "stream",
     "text": [
      "H\n",
      " \n"
     ]
    }
   ],
   "source": [
    "s = 'Hello COMP 130!'\n",
    "print(s[0])\n",
    "print(s[4])"
   ]
  },
  {
   "cell_type": "code",
   "execution_count": 9,
   "metadata": {},
   "outputs": [
    {
     "name": "stdout",
     "output_type": "stream",
     "text": [
      "lol\n"
     ]
    }
   ],
   "source": [
    "funny = s[2] + s[4] + s[3]\n",
    "print(funny)"
   ]
  },
  {
   "cell_type": "markdown",
   "metadata": {},
   "source": [
    "### `String` Traversal"
   ]
  },
  {
   "cell_type": "code",
   "execution_count": 12,
   "metadata": {},
   "outputs": [
    {
     "name": "stdout",
     "output_type": "stream",
     "text": [
      "0 : T\n",
      "1 : r\n",
      "2 : a\n",
      "3 : v\n",
      "4 : e\n",
      "5 : r\n",
      "6 : s\n",
      "7 : e\n",
      "8 :  \n",
      "9 : t\n",
      "10 : h\n",
      "11 : i\n",
      "12 : s\n",
      "13 : .\n"
     ]
    }
   ],
   "source": [
    "s = \"Traverse this.\"\n",
    "index = 0\n",
    "while index < len(s):\n",
    "    letter = s[index]\n",
    "    print(str(index) + \" : \" + letter)\n",
    "    index = index + 1"
   ]
  },
  {
   "cell_type": "markdown",
   "metadata": {},
   "source": [
    "### Traversal with `for`"
   ]
  },
  {
   "cell_type": "code",
   "execution_count": 10,
   "metadata": {},
   "outputs": [
    {
     "name": "stdout",
     "output_type": "stream",
     "text": [
      "ASAP\n"
     ]
    }
   ],
   "source": [
    "def get_acronym(phrase):\n",
    "    \"\"\" Get an acronym by returning a string containing\n",
    "        all of the uppercase letters in the phrase.\n",
    "    \"\"\"\n",
    "    \n",
    "    acronym = ''\n",
    "    for letter in phrase:\n",
    "        if letter <= 'Z' and letter >= 'A':\n",
    "            acronym = acronym + letter\n",
    "        \n",
    "    return acronym\n",
    "\n",
    "acronym = get_acronym(\"As Soon As Possible!\")\n",
    "print(acronym)"
   ]
  },
  {
   "cell_type": "code",
   "execution_count": 9,
   "metadata": {},
   "outputs": [
    {
     "name": "stdout",
     "output_type": "stream",
     "text": [
      "Success!\n"
     ]
    }
   ],
   "source": [
    "assert get_acronym(\"As Soon As Possible!\") == \"ASAP\", \"Incorrect acronym\"\n",
    "assert get_acronym(\"fuNnY bUt Should be okAy\") == \"NYUSA\", \"Incorrect acronym\"\n",
    "assert get_acronym(\"shoud be empty\") == \"\", \"Did not handle empty case correctly\"\n",
    "assert get_acronym(\"SHOULD BE ALL\") == \"SHOULDBEALL\", \"Did not handle all case correctly\"\n",
    "print(\"Success!\")"
   ]
  },
  {
   "cell_type": "markdown",
   "metadata": {},
   "source": [
    "### `String` Slices"
   ]
  },
  {
   "cell_type": "code",
   "execution_count": 32,
   "metadata": {},
   "outputs": [
    {
     "name": "stdout",
     "output_type": "stream",
     "text": [
      "useful\n",
      "good\n",
      "good\n"
     ]
    }
   ],
   "source": [
    "motto='A useful education for the common good.'\n",
    "#      0         1         2         3\n",
    "#                0         0         0 \n",
    "\n",
    "sliceIt=motto[2:8]\n",
    "print(sliceIt)\n",
    "\n",
    "diceIt=motto[34:38]\n",
    "print(diceIt)\n",
    "\n",
    "diceIt=motto[len(motto)-5:len(motto)-1]\n",
    "print(diceIt)"
   ]
  },
  {
   "cell_type": "code",
   "execution_count": 27,
   "metadata": {},
   "outputs": [
    {
     "name": "stdout",
     "output_type": "stream",
     "text": [
      "A useful education\n",
      "the common good.\n"
     ]
    }
   ],
   "source": [
    "start=motto[:18]\n",
    "print(start)\n",
    "\n",
    "end=motto[23:]\n",
    "print(end)"
   ]
  },
  {
   "cell_type": "markdown",
   "metadata": {},
   "source": [
    "### `String`s are Immutable"
   ]
  },
  {
   "cell_type": "code",
   "execution_count": 36,
   "metadata": {},
   "outputs": [
    {
     "ename": "TypeError",
     "evalue": "'str' object does not support item assignment",
     "output_type": "error",
     "traceback": [
      "\u001b[0;31m---------------------------------------------------------------------------\u001b[0m",
      "\u001b[0;31mTypeError\u001b[0m                                 Traceback (most recent call last)",
      "\u001b[0;32m<ipython-input-36-bf01a551fbbf>\u001b[0m in \u001b[0;36m<module>\u001b[0;34m\u001b[0m\n\u001b[0;32m----> 1\u001b[0;31m \u001b[0ms\u001b[0m\u001b[0;34m[\u001b[0m\u001b[0;36m0\u001b[0m\u001b[0;34m]\u001b[0m \u001b[0;34m=\u001b[0m \u001b[0;34m'M'\u001b[0m\u001b[0;34m\u001b[0m\u001b[0;34m\u001b[0m\u001b[0m\n\u001b[0m",
      "\u001b[0;31mTypeError\u001b[0m: 'str' object does not support item assignment"
     ]
    }
   ],
   "source": [
    "s[0] = 'M'"
   ]
  },
  {
   "cell_type": "code",
   "execution_count": 42,
   "metadata": {},
   "outputs": [
    {
     "ename": "TypeError",
     "evalue": "'str' object does not support item assignment",
     "output_type": "error",
     "traceback": [
      "\u001b[0;31m---------------------------------------------------------------------------\u001b[0m",
      "\u001b[0;31mTypeError\u001b[0m                                 Traceback (most recent call last)",
      "\u001b[0;32m<ipython-input-42-b80b948d1f43>\u001b[0m in \u001b[0;36m<module>\u001b[0;34m\u001b[0m\n\u001b[0;32m----> 1\u001b[0;31m \u001b[0ms\u001b[0m\u001b[0;34m[\u001b[0m\u001b[0;36m27\u001b[0m\u001b[0;34m:\u001b[0m\u001b[0;36m33\u001b[0m\u001b[0;34m]\u001b[0m \u001b[0;34m=\u001b[0m \u001b[0;34m'greater'\u001b[0m\u001b[0;34m\u001b[0m\u001b[0;34m\u001b[0m\u001b[0m\n\u001b[0m",
      "\u001b[0;31mTypeError\u001b[0m: 'str' object does not support item assignment"
     ]
    }
   ],
   "source": [
    "s[27:33] = 'greater'"
   ]
  },
  {
   "cell_type": "markdown",
   "metadata": {},
   "source": [
    "![Stop sign](stop.png)\n",
    "End of Class 26 material."
   ]
  },
  {
   "cell_type": "markdown",
   "metadata": {},
   "source": [
    "### The `in` Operator"
   ]
  },
  {
   "cell_type": "code",
   "execution_count": null,
   "metadata": {},
   "outputs": [],
   "source": []
  },
  {
   "cell_type": "markdown",
   "metadata": {},
   "source": [
    "### Searching"
   ]
  },
  {
   "cell_type": "code",
   "execution_count": 11,
   "metadata": {},
   "outputs": [
    {
     "name": "stdout",
     "output_type": "stream",
     "text": [
      "4\n"
     ]
    }
   ],
   "source": [
    "def find_digit(line):\n",
    "    \"\"\" Return the index of the first numeric digit in the \n",
    "        the given string, or -1 if line contains no digits.\n",
    "    \"\"\"\n",
    "    \n",
    "    digits = \"0123456789\"\n",
    "    index = 0\n",
    "    \n",
    "    while index < len(line):\n",
    "        char = line[index]\n",
    "        \n",
    "        if char in digits:\n",
    "            return index\n",
    "        \n",
    "        index = index + 1\n",
    "        \n",
    "    return -1\n",
    "\n",
    "print(find_digit(\"abc 123\"))"
   ]
  },
  {
   "cell_type": "code",
   "execution_count": 6,
   "metadata": {},
   "outputs": [
    {
     "name": "stdout",
     "output_type": "stream",
     "text": [
      "Success!\n"
     ]
    }
   ],
   "source": [
    "assert find_digit(\"abc 123\") == 4, \"Incorrect index of digit.\"\n",
    "assert find_digit(\"123 abc\") == 0, \"Missed digit in first spot\"\n",
    "assert find_digit(\"last 1\") == 5, \"Missed digit in last spot\"\n",
    "assert find_digit(\"no digits for you\") == -1, \"Incorrect result with no digits\"\n",
    "print(\"Success!\")"
   ]
  },
  {
   "cell_type": "markdown",
   "metadata": {},
   "source": [
    "### Counting"
   ]
  },
  {
   "cell_type": "code",
   "execution_count": null,
   "metadata": {},
   "outputs": [],
   "source": []
  }
 ],
 "metadata": {
  "kernelspec": {
   "display_name": "Python 3",
   "language": "python",
   "name": "python3"
  },
  "language_info": {
   "codemirror_mode": {
    "name": "ipython",
    "version": 3
   },
   "file_extension": ".py",
   "mimetype": "text/x-python",
   "name": "python",
   "nbconvert_exporter": "python",
   "pygments_lexer": "ipython3",
   "version": "3.7.3"
  }
 },
 "nbformat": 4,
 "nbformat_minor": 2
}
