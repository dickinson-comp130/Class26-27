{
 "cells": [
  {
   "cell_type": "markdown",
   "metadata": {},
   "source": [
    "# Class 26-27- String and String Processing Examples\n",
    "**COMP130 - Introduction to Computing**  \n",
    "**Dickinson College**  "
   ]
  },
  {
   "cell_type": "markdown",
   "metadata": {},
   "source": [
    "### `String`s and Offsets (indices)\n",
    "\n",
    "- A `String` is a *sequence* of characters.  \n",
    "- Each *item* or (*element*) in a *sequence* has an *offset* (or an *index*).  \n",
    "- The offsets (or indices) start with `0`.\n",
    "- Individual items in a sequence can be accessed using square brackets `[ ]`"
   ]
  },
  {
   "cell_type": "code",
   "execution_count": null,
   "metadata": {},
   "outputs": [],
   "source": [
    "s = 'Hello COMP 130!'\n",
    "print(s[0])\n",
    "print(s[4])"
   ]
  },
  {
   "cell_type": "code",
   "execution_count": null,
   "metadata": {},
   "outputs": [],
   "source": [
    "funny = s[2] + s[4] + s[3]\n",
    "print(funny)"
   ]
  },
  {
   "cell_type": "code",
   "execution_count": null,
   "metadata": {},
   "outputs": [],
   "source": [
    "okay = s[14]\n",
    "oopsie = s[15]"
   ]
  },
  {
   "cell_type": "markdown",
   "metadata": {},
   "source": [
    "### `String` Traversal\n",
    "\n",
    "Offsets (indices) can be used to to *traverse* the sequence (i.e. to go though the items of the sequence.) The loop *setup*, *condition* and *update* determines the order in which the sequence is traversed."
   ]
  },
  {
   "cell_type": "code",
   "execution_count": null,
   "metadata": {},
   "outputs": [],
   "source": [
    "s = \"Traverse this.\"\n",
    "index = 0\n",
    "while index < len(s):\n",
    "    letter = s[index]\n",
    "    print(str(index) + \" : \" + letter)\n",
    "    index = index + 1"
   ]
  },
  {
   "cell_type": "markdown",
   "metadata": {},
   "source": [
    "### Traversal with `for in`\n",
    "\n",
    "Traversing a sequence from the first element to the last element is a very common operation.  Thus, many languages provide a shorthand way to express this. In Python the *`for in`* loop traverses a sequence from the first element to the last element.  The *loop variable* is assigned to each element in turn and can be used to process the elements."
   ]
  },
  {
   "cell_type": "code",
   "execution_count": null,
   "metadata": {},
   "outputs": [],
   "source": [
    "def get_acronym(phrase):\n",
    "    \"\"\" Get an acronym by returning a string containing\n",
    "        all of the uppercase letters in the phrase.\n",
    "    \"\"\"\n",
    "    \n",
    "    acronym = ''\n",
    "    for letter in phrase:\n",
    "        if letter >= 'A' and letter <= 'Z':\n",
    "            acronym = acronym + letter\n",
    "        \n",
    "    return acronym\n",
    "\n",
    "acronym = get_acronym(\"As Soon As Possible!\")\n",
    "print(acronym)\n",
    "\n",
    "# Note: Writing an is_cap_letter boolean function would help with readability here!"
   ]
  },
  {
   "cell_type": "code",
   "execution_count": null,
   "metadata": {},
   "outputs": [],
   "source": [
    "assert get_acronym(\"As Soon As Possible!\") == \"ASAP\", \"Incorrect acronym\"\n",
    "assert get_acronym(\"fuNnY bUt Should be okAy\") == \"NYUSA\", \"Incorrect acronym\"\n",
    "assert get_acronym(\"shoud be empty\") == \"\", \"Did not handle empty case correctly\"\n",
    "assert get_acronym(\"SHOULD BE ALL\") == \"SHOULDBEALL\", \"Did not handle all case correctly\"\n",
    "print(\"Success!\")"
   ]
  },
  {
   "cell_type": "markdown",
   "metadata": {},
   "source": [
    "### `String` Slices\n",
    "\n",
    "The `[ ]` operator for accessing an element of a sequence can also be used to access *sub-sequences* consisting of more than one element."
   ]
  },
  {
   "cell_type": "code",
   "execution_count": null,
   "metadata": {},
   "outputs": [],
   "source": [
    "motto='A useful education for the common good.'\n",
    "#      0         1         2         3\n",
    "#                0         0         0 \n",
    "\n",
    "sliceIt=motto[2:8]\n",
    "print(sliceIt)\n",
    "\n",
    "diceIt=motto[34:38]\n",
    "print(diceIt)\n",
    "\n",
    "diceIt=motto[len(motto)-5:len(motto)-1]\n",
    "print(diceIt)"
   ]
  },
  {
   "cell_type": "code",
   "execution_count": null,
   "metadata": {},
   "outputs": [],
   "source": [
    "start=motto[:18]\n",
    "print(start)\n",
    "\n",
    "end=motto[23:]\n",
    "print(end)"
   ]
  },
  {
   "cell_type": "markdown",
   "metadata": {},
   "source": [
    "### `String`s are Immutable\n",
    "\n",
    "A `String` in Python is *immutable* meaning that the characters in the `String` cannot be changed.  That is, it is illegal to assign new characters to an index or a slice of a `String`.  Instead, a new `String` needs to be created by concatenating parts of the original string and the new character(s)."
   ]
  },
  {
   "cell_type": "code",
   "execution_count": null,
   "metadata": {},
   "outputs": [],
   "source": [
    "s = 'Hello COMP 130!'\n",
    "s[0] = 'M'"
   ]
  },
  {
   "cell_type": "code",
   "execution_count": null,
   "metadata": {},
   "outputs": [],
   "source": [
    "motto='A useful education for the common good.'\n",
    "motto[27:33] = 'greater'"
   ]
  },
  {
   "cell_type": "code",
   "execution_count": null,
   "metadata": {},
   "outputs": [],
   "source": [
    "new_motto=motto[:27] + 'greater' + motto[33:]\n",
    "print(new_motto)"
   ]
  },
  {
   "cell_type": "markdown",
   "metadata": {},
   "source": [
    "![Stop sign](stop.png)\n",
    "End of Class 26 material."
   ]
  },
  {
   "cell_type": "markdown",
   "metadata": {},
   "source": [
    "### A Search Pattern\n",
    "\n",
    "A common pattern that arises with sequences is to *search* through the elements of the sequence for a particular value or a value that meets some criterion.  As with a traversal the loop *setup*, *condition* and *update* determines the order in which the sequence is searched.  The `if` *condition* is used to detect when an item is the one that is being searched for."
   ]
  },
  {
   "cell_type": "code",
   "execution_count": 37,
   "metadata": {},
   "outputs": [
    {
     "name": "stdout",
     "output_type": "stream",
     "text": [
      "4\n"
     ]
    }
   ],
   "source": [
    "def find_digit(line):\n",
    "    \"\"\" Return the index of the first numeric digit in the \n",
    "        the given string, or -1 if line contains no digits.\n",
    "    \"\"\"\n",
    "    index = 0\n",
    "    while index < len(line):\n",
    "        char = line[index]\n",
    "        if char >= '0' and char <= '9':\n",
    "            return index\n",
    "        \n",
    "        index = index + 1\n",
    "        \n",
    "    return -1\n",
    "\n",
    "print(find_digit(\"abc 123\"))\n",
    "\n",
    "# Note: Writing an is_digit boolean function would help with readability here!"
   ]
  },
  {
   "cell_type": "code",
   "execution_count": null,
   "metadata": {},
   "outputs": [],
   "source": [
    "assert find_digit(\"abc 123\") == 4, \"Incorrect index of digit.\"\n",
    "assert find_digit(\"123 abc\") == 0, \"Missed digit in first spot\"\n",
    "assert find_digit(\"last 1\") == 5, \"Missed digit in last spot\"\n",
    "assert find_digit(\"no digits for you\") == -1, \"Incorrect result with no digits\"\n",
    "assert find_digit(\"\") == -1, \"Does not work with empty string\"\n",
    "print(\"Success!\")"
   ]
  },
  {
   "cell_type": "markdown",
   "metadata": {},
   "source": [
    "### Aggregate Pattern\n",
    "\n",
    "Another common patten that arises with sequences is the computation of aggregate data.  We saw this pattern earlier when working with simple `for` loops and computing totals, averages, maximum and minimum values. The same techniques we used for those computations also work with sequences."
   ]
  },
  {
   "cell_type": "code",
   "execution_count": null,
   "metadata": {},
   "outputs": [],
   "source": [
    "def count_vowels(line):\n",
    "    \"\"\" Count the number of vowels that appear in the line.\n",
    "    \"\"\"\n",
    "    count = 0\n",
    "    \n",
    "    for char in line:\n",
    "        if char=='A' or char=='E' or char=='I' or char=='O' or char=='U':\n",
    "            count = count + 1\n",
    "    \n",
    "    return count\n",
    "\n",
    "print(count_vowels('THIS IS A TEST'))\n",
    "\n",
    "# Note: Writing an is_vowel boolean function would help with readability here!"
   ]
  },
  {
   "cell_type": "code",
   "execution_count": null,
   "metadata": {},
   "outputs": [],
   "source": [
    "assert count_vowels(\"THIS IS A TEST\")==4, \"Incorect vowel count\"\n",
    "assert count_vowels(\"NT NY VWLS HR\")==0, \"Incorrect vowel count when no vowels\"\n",
    "assert count_vowels(\"AEIOU\")==5, \"Incorrect vowel count when all vowels\"\n",
    "print(\"Success!\")"
   ]
  }
 ],
 "metadata": {
  "kernelspec": {
   "display_name": "Python 3",
   "language": "python",
   "name": "python3"
  },
  "language_info": {
   "codemirror_mode": {
    "name": "ipython",
    "version": 3
   },
   "file_extension": ".py",
   "mimetype": "text/x-python",
   "name": "python",
   "nbconvert_exporter": "python",
   "pygments_lexer": "ipython3",
   "version": "3.7.3"
  }
 },
 "nbformat": 4,
 "nbformat_minor": 2
}
