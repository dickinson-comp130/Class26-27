{
 "cells": [
  {
   "cell_type": "markdown",
   "metadata": {},
   "source": [
    "# Class 26-28 - `String`s and String Processing\n",
    "**COMP130 - Introduction to Computing**  \n",
    "**Dickinson College**  "
   ]
  },
  {
   "cell_type": "markdown",
   "metadata": {},
   "source": [
    "### Names:"
   ]
  },
  {
   "cell_type": "markdown",
   "metadata": {},
   "source": []
  },
  {
   "cell_type": "markdown",
   "metadata": {},
   "source": [
    "### String Offsets/Indices and Slices"
   ]
  },
  {
   "cell_type": "markdown",
   "metadata": {},
   "source": [
    "- given string use indices and slices and + and * to build a new string that is specified\n",
    "- empty string [3:3], [4:3]\n",
    "- [:]\n",
    "- "
   ]
  },
  {
   "cell_type": "markdown",
   "metadata": {},
   "source": [
    "### String Traversals"
   ]
  },
  {
   "cell_type": "markdown",
   "metadata": {},
   "source": [
    "- parson problem\n",
    "\n",
    "- some with for and some with while...\n",
    "\n",
    "- reverse order\n",
    " - build and return using a for\n",
    " - print using a while\n",
    " \n",
    "- every other\n",
    "  - write with a for\n",
    "  - write with while\n",
    "  \n",
    "- first/last etc...\n",
    "\n",
    "- first letter of every word\n",
    "\n",
    "- interleave two strings\n",
    "\n",
    "- traversal with slices\n",
    "\n",
    "- printing vs fruitful"
   ]
  },
  {
   "cell_type": "markdown",
   "metadata": {},
   "source": [
    "![Stop sign](stop.png)\n",
    "End of Class 26 material."
   ]
  },
  {
   "cell_type": "markdown",
   "metadata": {},
   "source": [
    "- in examples?\n",
    "\n",
    "- searching\n",
    " - first word\n",
    " - next word\n",
    "  - rewrite while with return as while !done and vice versa.\n",
    "  \n",
    "- one like searching with else return -1.\n",
    "  - find the error.\n",
    "\n",
    "- rewrite find digit using string comparision instead of in (e.g. like make\n",
    "\n",
    "- counting \n",
    " - count words\n",
    " \n",
    "- sub-sets\n",
    "\n"
   ]
  },
  {
   "cell_type": "code",
   "execution_count": null,
   "metadata": {},
   "outputs": [],
   "source": []
  },
  {
   "cell_type": "code",
   "execution_count": null,
   "metadata": {},
   "outputs": [],
   "source": []
  },
  {
   "cell_type": "code",
   "execution_count": null,
   "metadata": {},
   "outputs": [],
   "source": []
  }
 ],
 "metadata": {
  "kernelspec": {
   "display_name": "Python 3",
   "language": "python",
   "name": "python3"
  },
  "language_info": {
   "codemirror_mode": {
    "name": "ipython",
    "version": 3
   },
   "file_extension": ".py",
   "mimetype": "text/x-python",
   "name": "python",
   "nbconvert_exporter": "python",
   "pygments_lexer": "ipython3",
   "version": "3.7.3"
  }
 },
 "nbformat": 4,
 "nbformat_minor": 2
}
