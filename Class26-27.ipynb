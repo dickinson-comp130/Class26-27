{
 "cells": [
  {
   "cell_type": "markdown",
   "metadata": {},
   "source": [
    "# Class 26-27 - `String`s and String Processing\n",
    "**COMP130 - Introduction to Computing**  \n",
    "**Dickinson College**  "
   ]
  },
  {
   "cell_type": "markdown",
   "metadata": {},
   "source": [
    "### Names:"
   ]
  },
  {
   "cell_type": "markdown",
   "metadata": {},
   "source": []
  },
  {
   "cell_type": "markdown",
   "metadata": {},
   "source": [
    "### String Offsets (Indices) and Slices"
   ]
  },
  {
   "cell_type": "code",
   "execution_count": null,
   "metadata": {},
   "outputs": [],
   "source": []
  },
  {
   "cell_type": "markdown",
   "metadata": {},
   "source": [
    "__Q1:__ Consider the program below:\n",
    "```Python\n",
    "quote='One small step for man.'\n",
    "c1=quote[0]\n",
    "c2=quote[6]\n",
    "c3=quote[len(quote)-6]\n",
    "i=10\n",
    "c4=quote[i+2]\n",
    "```\n",
    "What character is assigned to each of the variables `c1`-`c4`?"
   ]
  },
  {
   "cell_type": "markdown",
   "metadata": {},
   "source": []
  },
  {
   "cell_type": "markdown",
   "metadata": {},
   "source": [
    "__Q2:__ Consider the following statement:\n",
    "```Python\n",
    "c5=quote[len(quote)]\n",
    "```\n",
    "What would happen if this statement was executed? Why?"
   ]
  },
  {
   "cell_type": "markdown",
   "metadata": {},
   "source": []
  },
  {
   "cell_type": "markdown",
   "metadata": {},
   "source": [
    "__Q3:__ Consider the program below: \n",
    "```Python\n",
    "quote='One giant leap for mankind.'\n",
    "s1=quote[:5]\n",
    "s2=quote[20:]\n",
    "s3=quote[6:9]\n",
    "s4=quote[23:len(quote)]\n",
    "s5=quote[6:6]\n",
    "s6=quote[:]\n",
    "```\n",
    "What character is assigned to each of the variables `s1`-`s6`?"
   ]
  },
  {
   "cell_type": "markdown",
   "metadata": {},
   "source": []
  },
  {
   "cell_type": "markdown",
   "metadata": {},
   "source": [
    "__Q4:__ Given the following `String`\n",
    "```Python\n",
    "quote='Nobody puts baby in a corner.'\n",
    "```\n",
    "write statements that *index* and *slice* the `quote` and use concatenation (`+`) and repetition (`*`) to print each of the following new `String`s:\n",
    "- `yabba dabba do`\n",
    "- `No inner.`\n",
    "- `baboon`"
   ]
  },
  {
   "cell_type": "code",
   "execution_count": null,
   "metadata": {},
   "outputs": [],
   "source": []
  },
  {
   "cell_type": "markdown",
   "metadata": {},
   "source": [
    "### String Traversals"
   ]
  },
  {
   "cell_type": "markdown",
   "metadata": {},
   "source": [
    "__Q5:__ Consider the statements given below:\n",
    "```Python\n",
    "letter = s[index]\n",
    "index = index + 2\n",
    "s = \"Schooled\"\n",
    "while index < len(s):\n",
    "print(str(letter))\n",
    "index = 0\n",
    "```\n",
    "Reorder the above statement into a program that prints out every other character in `s`."
   ]
  },
  {
   "cell_type": "code",
   "execution_count": null,
   "metadata": {},
   "outputs": [],
   "source": []
  },
  {
   "cell_type": "markdown",
   "metadata": {},
   "source": [
    "__Q6__: Consider the statements given below:\n",
    "```Python\n",
    "print(str(index))\n",
    "while index >= 0:\n",
    "index = len(s)\n",
    "s = \"was it a car or a cat i saw\"\n",
    "index = index - 1\n",
    "letter = s[index]\n",
    "```\n",
    "Reorder the above statements into a program that prints out every character in `s` in reverse order."
   ]
  },
  {
   "cell_type": "code",
   "execution_count": null,
   "metadata": {},
   "outputs": [],
   "source": []
  },
  {
   "cell_type": "markdown",
   "metadata": {},
   "source": [
    "__Q7:__ Write a function that takes a `String` as an argument and returns a `String` that is the reverse of its argument. So if the argument is `erised` then the function will return `desire`. Note: This differs from the program in __Q6__ because you must build a new `String` that is the reverse, not just print the characters in reverse order.  Hint: Start with an empty string and add characters to it similar to how the `get_acronym` example works."
   ]
  },
  {
   "cell_type": "code",
   "execution_count": null,
   "metadata": {},
   "outputs": [],
   "source": []
  },
  {
   "cell_type": "markdown",
   "metadata": {},
   "source": [
    "__Q8:__ Write a few automated tests for your function in __Q7__."
   ]
  },
  {
   "cell_type": "code",
   "execution_count": null,
   "metadata": {},
   "outputs": [],
   "source": []
  },
  {
   "cell_type": "markdown",
   "metadata": {},
   "source": [
    "__Q9:__ If you used a `for` loop in __Q7__ rewrite your function using a `while` loop.  If you used a `while` loop in __Q7__ rewrite your function now using a `for` loop."
   ]
  },
  {
   "cell_type": "code",
   "execution_count": null,
   "metadata": {},
   "outputs": [],
   "source": []
  },
  {
   "cell_type": "markdown",
   "metadata": {},
   "source": [
    "__Optional Challenge:__ Rewrite your function from __Q7__ using recursion."
   ]
  },
  {
   "cell_type": "code",
   "execution_count": null,
   "metadata": {},
   "outputs": [],
   "source": []
  },
  {
   "cell_type": "markdown",
   "metadata": {},
   "source": [
    "__Q10:__ Write a function called `jumble` that takes one `String` as an argument and returns the letters of that string *jumbled* up.  The *jumbled* up string will have the first letter, then the last, then the second, then the next to last, etc... For example, if the argument is `computer` then `jumble` will return `croemtpu`."
   ]
  },
  {
   "cell_type": "code",
   "execution_count": null,
   "metadata": {},
   "outputs": [],
   "source": []
  },
  {
   "cell_type": "markdown",
   "metadata": {},
   "source": [
    "__Q11:__ Write some automated tests for your function in __Q10__.  Be sure to include a least one test that uses a string with an odd number of characters."
   ]
  },
  {
   "cell_type": "code",
   "execution_count": null,
   "metadata": {},
   "outputs": [],
   "source": []
  },
  {
   "cell_type": "markdown",
   "metadata": {},
   "source": [
    "__Q12:__ Write a function that accepts one `String` as an argument and returns a `String` containing the first character of each word of its argument.  So if the argument was `Frankly, my dear, I don't give a damn.` then the function will return `FmdIdgad`."
   ]
  },
  {
   "cell_type": "code",
   "execution_count": null,
   "metadata": {},
   "outputs": [],
   "source": []
  },
  {
   "cell_type": "markdown",
   "metadata": {},
   "source": [
    "__Q13:__ Write a few automated tests for you function in __Q12__."
   ]
  },
  {
   "cell_type": "code",
   "execution_count": null,
   "metadata": {},
   "outputs": [],
   "source": []
  },
  {
   "cell_type": "markdown",
   "metadata": {},
   "source": [
    "__Q14:__ Write a function that *shuffles* two strings.  The function must accept two `String`s as arguments and return a new `String` that has alternating letters from the arguments.  For example, if the arguments are `cat` and `dog` then the function will return `cdaotg`.  Your function should handle strings that are of unequal length by shuffling as long as it can, and then using the rest of the letter from the longer string.  For example, if the arguments are `cat` and `mouse` then the function will return `cmaotuse`.\n",
    "\n",
    "Hint: Use an incremental development process and solve it first assuming the strings are equal length. Then try to handle the other cases."
   ]
  },
  {
   "cell_type": "code",
   "execution_count": null,
   "metadata": {},
   "outputs": [],
   "source": []
  },
  {
   "cell_type": "markdown",
   "metadata": {},
   "source": [
    "__Q15:__ Write a few automated tests for your function in __Q14__."
   ]
  },
  {
   "cell_type": "code",
   "execution_count": null,
   "metadata": {},
   "outputs": [],
   "source": []
  },
  {
   "cell_type": "markdown",
   "metadata": {},
   "source": [
    "__Optional Challenge:__ Write a function similar to the one from __Q14__ but that also accepts an integer indicating the size of the shuffles.  For example, if the arguments are `school` and `houses` and the size of the shuffles is `3` then the function will return `schhouoolses`.  Also write a variety of automated tests to be sure your function handles things like different length strings, strings that are not a multiple of the shuffle size, shuffle sizes that are larger than the string lengths, etc."
   ]
  },
  {
   "cell_type": "code",
   "execution_count": null,
   "metadata": {},
   "outputs": [],
   "source": []
  },
  {
   "cell_type": "markdown",
   "metadata": {},
   "source": [
    "__Optional Challenge:__ Write a recursive function that checks if a string is a palindrome (i.e. it is the same forward as it is backwards.) For example, `madam` is a palindrome while `building` is not.  Hint: All strings with one character are palindromes and if the first and last characters in a string are the same, then the string might be a palindrome but you have to check. If you get that working for single word palindromes (like `madam`) extend your program to allow for but ignore spaces.  For example, `madam im adam` is a palindrome. To up the challenge even more, allow for but ignore case and punctuation too.  For example, `Madam I'm Adam` is a palindrome."
   ]
  },
  {
   "cell_type": "markdown",
   "metadata": {},
   "source": [
    "![Stop sign](stop.png)\n",
    "End of Class 26 material."
   ]
  },
  {
   "cell_type": "markdown",
   "metadata": {},
   "source": [
    "### Searching Patterns"
   ]
  },
  {
   "cell_type": "markdown",
   "metadata": {},
   "source": [
    "__Q16:__ Consider the statements given below:\n",
    "```Python\n",
    "index = index + 1\n",
    "index=0\n",
    "if char=='A' or char=='E' or char=='I' or char =='O' or char=='U':\n",
    "def get_vowel(s):\n",
    "return 'X'\n",
    "char=s[index]\n",
    "while index < len(s):\n",
    "return char  \n",
    "```\n",
    "Reorder the above statements into a function that returns the first vowel that appears in the string `s` or the letter `X` if `s` contains no vowels."
   ]
  },
  {
   "cell_type": "code",
   "execution_count": null,
   "metadata": {},
   "outputs": [],
   "source": []
  },
  {
   "cell_type": "markdown",
   "metadata": {},
   "source": [
    "Consider the `bad_get_vowel` function below that is similar to the `get_vowel` from above, except that it contains a common novice programmer mistake that prevents it from working correctly:"
   ]
  },
  {
   "cell_type": "code",
   "execution_count": 13,
   "metadata": {
    "deletable": false,
    "editable": false
   },
   "outputs": [],
   "source": [
    "def bad_get_vowel(line):\n",
    "    index = 0\n",
    "    while index < len(line):\n",
    "        char = line[index]\n",
    "        if char=='A' or char=='E' or char=='I' or char =='O' or char=='U':\n",
    "            return char\n",
    "        else:\n",
    "            return 'X'\n",
    "        \n",
    "        index = index + 1\n",
    "        \n",
    "    return 'X'"
   ]
  },
  {
   "cell_type": "markdown",
   "metadata": {},
   "source": [
    "__Q17__ Give an example of of a string for which `bad_get_vowel` works correctly and returns the first vowel that it finds in the `line`."
   ]
  },
  {
   "cell_type": "markdown",
   "metadata": {},
   "source": []
  },
  {
   "cell_type": "markdown",
   "metadata": {},
   "source": [
    "__Q18:__ Give an example of a string for which `bad_get_vowel` does not work correctly and returns `X` even if there is a vowel in `line`."
   ]
  },
  {
   "cell_type": "markdown",
   "metadata": {},
   "source": []
  },
  {
   "cell_type": "markdown",
   "metadata": {},
   "source": [
    "__Q19:__ Give an example of a string for which `bad_get_vowel` correctly returns `X`."
   ]
  },
  {
   "cell_type": "markdown",
   "metadata": {},
   "source": []
  },
  {
   "cell_type": "markdown",
   "metadata": {},
   "source": [
    "__Q20:__ Explain why the `bad_get_vowel` function does not work correctly."
   ]
  },
  {
   "cell_type": "markdown",
   "metadata": {},
   "source": []
  },
  {
   "cell_type": "markdown",
   "metadata": {},
   "source": [
    "__Q21:__ Write function named `decimal_index` that accepts a `String` argument containing a decimal number (e.g. `\"235.3920\"`) and returns the index at which the decimal point (`.`) appears. If the argument does not contain a decimal point your function should return `-1`."
   ]
  },
  {
   "cell_type": "code",
   "execution_count": null,
   "metadata": {},
   "outputs": [],
   "source": []
  },
  {
   "cell_type": "markdown",
   "metadata": {},
   "source": [
    "__Q22:__ Write a few automated tests for your `decimal_index` function."
   ]
  },
  {
   "cell_type": "code",
   "execution_count": null,
   "metadata": {},
   "outputs": [],
   "source": []
  },
  {
   "cell_type": "markdown",
   "metadata": {},
   "source": [
    "__Q23:__ Write a function that accepts a `String` as an argument and returns the length of the first word that appears in the string. For this problem you can assume that the string does not contain any punctuation and that if there is more than one word in the string a space appears between every word."
   ]
  },
  {
   "cell_type": "code",
   "execution_count": null,
   "metadata": {},
   "outputs": [],
   "source": []
  },
  {
   "cell_type": "markdown",
   "metadata": {},
   "source": [
    "__Q24:__ Write a few automated tests for your function from __Q23__."
   ]
  },
  {
   "cell_type": "code",
   "execution_count": null,
   "metadata": {},
   "outputs": [],
   "source": []
  },
  {
   "cell_type": "markdown",
   "metadata": {},
   "source": [
    "__Q25:__ Write a function that takes two `String` parameters and determines if the first string is contained in the second.  For example, if the string are `tap` and `catapult` the function will return `True`.  But if the strings are `dog` and `catapult` then the function will return `False`.  Hint: Consider starting by trying to determine if the first character of the first string appears in the second (i.e. does the `t` of `tap` appear in `catapult`?)  Then when you have that working, modify that program to check for the whole string `tap`.  "
   ]
  },
  {
   "cell_type": "code",
   "execution_count": null,
   "metadata": {},
   "outputs": [],
   "source": []
  },
  {
   "cell_type": "markdown",
   "metadata": {},
   "source": [
    "__Q26:__ Write a few automated tests for your function from __Q25__.  Be sure to consider cases where the first string is and is not in the second, when it appears at the beginning and the end of second and when the first string is longer than the second. "
   ]
  },
  {
   "cell_type": "code",
   "execution_count": null,
   "metadata": {},
   "outputs": [],
   "source": []
  },
  {
   "cell_type": "markdown",
   "metadata": {},
   "source": [
    "### Aggregate Patterns"
   ]
  },
  {
   "cell_type": "markdown",
   "metadata": {},
   "source": [
    "__Q27:__ Consider the following statements:\n",
    "```Python\n",
    "sval = str(val)\n",
    "digit = int(sdigit)\n",
    "return max_digit\n",
    "if digit > max_digit:\n",
    "for sdigit in sval:\n",
    "def biggest_digit(val):\n",
    "max_digit = digit\n",
    "assert isinstance(val,int), \"val must be an int\"\n",
    "max_digit = int(sval[0])\n",
    "```\n",
    "\n",
    "Reorder the above statements into a function that returns the largest digit that appears in `val`"
   ]
  },
  {
   "cell_type": "code",
   "execution_count": null,
   "metadata": {},
   "outputs": [],
   "source": []
  },
  {
   "cell_type": "markdown",
   "metadata": {},
   "source": [
    "__Q28:__ Write a function that counts the number of words that appear in a string.  For this question you may assume that there is a single space between any two words."
   ]
  },
  {
   "cell_type": "code",
   "execution_count": null,
   "metadata": {},
   "outputs": [],
   "source": []
  },
  {
   "cell_type": "markdown",
   "metadata": {},
   "source": [
    "__Q29:__ Write a few automated tests for your function from __Q28__."
   ]
  },
  {
   "cell_type": "code",
   "execution_count": null,
   "metadata": {},
   "outputs": [],
   "source": []
  },
  {
   "cell_type": "markdown",
   "metadata": {},
   "source": [
    "__Q30:__ Write a function that takes a `String` as a parameter and returns the number of numeric digits that the string contains.  For example if the argument is `5 things 4u2` then the function will return `3`."
   ]
  },
  {
   "cell_type": "code",
   "execution_count": null,
   "metadata": {},
   "outputs": [],
   "source": []
  },
  {
   "cell_type": "markdown",
   "metadata": {},
   "source": [
    "__Q31:__ Write a few automated tests for your function from __Q30__. "
   ]
  },
  {
   "cell_type": "code",
   "execution_count": null,
   "metadata": {},
   "outputs": [],
   "source": []
  },
  {
   "cell_type": "markdown",
   "metadata": {},
   "source": [
    "__Optional Challenge:__ Write a function that computes the average length of the words that appear in a string.  For this question you may assume that there is a single space between any two words and that there is no punctuation in the string.  Hint: Use a `while` loop so that you have an `index` variable.  Also, start by solving the problem assuming there is an extra space on the end of the string.  Then when that works, modify the code to remove that assumption. Be sure to write some automated tests for your function."
   ]
  },
  {
   "cell_type": "code",
   "execution_count": null,
   "metadata": {},
   "outputs": [],
   "source": []
  },
  {
   "cell_type": "markdown",
   "metadata": {},
   "source": [
    "__Optional Challenge:__ Write a function that determines how many times one string appears within another.  For example the string `issi` appears twice in the string `mississippi`.  Be sure to write some automated tests for your function."
   ]
  },
  {
   "cell_type": "code",
   "execution_count": null,
   "metadata": {},
   "outputs": [],
   "source": []
  }
 ],
 "metadata": {
  "kernelspec": {
   "display_name": "Python 3",
   "language": "python",
   "name": "python3"
  },
  "language_info": {
   "codemirror_mode": {
    "name": "ipython",
    "version": 3
   },
   "file_extension": ".py",
   "mimetype": "text/x-python",
   "name": "python",
   "nbconvert_exporter": "python",
   "pygments_lexer": "ipython3",
   "version": "3.7.3"
  }
 },
 "nbformat": 4,
 "nbformat_minor": 2
}
