{
 "cells": [
  {
   "cell_type": "markdown",
   "metadata": {},
   "source": [
    "# Class 26-27 - `String`s and String Processing\n",
    "**COMP130 - Introduction to Computing**  \n",
    "**Dickinson College**  "
   ]
  },
  {
   "cell_type": "markdown",
   "metadata": {},
   "source": [
    "### Name(s):"
   ]
  },
  {
   "cell_type": "markdown",
   "metadata": {},
   "source": [
    "Guy the Gorilla"
   ]
  },
  {
   "cell_type": "markdown",
   "metadata": {},
   "source": [
    "### String Offsets (Indices) and Slices"
   ]
  },
  {
   "cell_type": "markdown",
   "metadata": {},
   "source": [
    "__Q1:__ Consider the program below:\n",
    "```Python\n",
    "quote='One small step for man.'\n",
    "c1=quote[0]\n",
    "c2=quote[6]\n",
    "c3=quote[len(quote)-6]\n",
    "i=10\n",
    "c4=quote[i+2]\n",
    "```\n",
    "What character is assigned to each of the variables `c1`-`c4`?"
   ]
  },
  {
   "cell_type": "code",
   "execution_count": 21,
   "metadata": {},
   "outputs": [
    {
     "name": "stdout",
     "output_type": "stream",
     "text": [
      "O\n",
      "a\n",
      "r\n",
      "e\n"
     ]
    }
   ],
   "source": [
    "quote='One small step for man.'\n",
    "c1=quote[0]\n",
    "c2=quote[6]\n",
    "c3=quote[len(quote)-6]\n",
    "i=10\n",
    "c4=quote[i+2]\n",
    "print(c1)\n",
    "print(c2)\n",
    "print(c3)\n",
    "print(c4)"
   ]
  },
  {
   "cell_type": "markdown",
   "metadata": {},
   "source": [
    "__Q2:__ Consider the following statement:\n",
    "```Python\n",
    "c5=quote[len(quote)]\n",
    "```\n",
    "What would happen if this statement was executed? Why?"
   ]
  },
  {
   "cell_type": "code",
   "execution_count": 22,
   "metadata": {},
   "outputs": [
    {
     "ename": "IndexError",
     "evalue": "string index out of range",
     "output_type": "error",
     "traceback": [
      "\u001b[0;31m---------------------------------------------------------------------------\u001b[0m",
      "\u001b[0;31mIndexError\u001b[0m                                Traceback (most recent call last)",
      "\u001b[0;32m<ipython-input-22-08f520147ba1>\u001b[0m in \u001b[0;36m<module>\u001b[0;34m\u001b[0m\n\u001b[0;32m----> 1\u001b[0;31m \u001b[0mc5\u001b[0m\u001b[0;34m=\u001b[0m\u001b[0mquote\u001b[0m\u001b[0;34m[\u001b[0m\u001b[0mlen\u001b[0m\u001b[0;34m(\u001b[0m\u001b[0mquote\u001b[0m\u001b[0;34m)\u001b[0m\u001b[0;34m]\u001b[0m\u001b[0;34m\u001b[0m\u001b[0;34m\u001b[0m\u001b[0m\n\u001b[0m",
      "\u001b[0;31mIndexError\u001b[0m: string index out of range"
     ]
    }
   ],
   "source": [
    "c5=quote[len(quote)]"
   ]
  },
  {
   "cell_type": "markdown",
   "metadata": {},
   "source": [
    "This occurs because the length of the quote can't be used in the square brackets:\n",
    "* The square brackets are asking for a number in the sequence of the string's characters.\n",
    "* The square brackets begin counting the string's characters with the number 0 (because that's how computers count).\n",
    "* The length of the string will therefor always be *1 greater* than the number that the brackets assign to the final character.\n",
    "* Because of this, the length of the string is always \"out of bounds\" (or range) when it comes to identifying a single character in the string."
   ]
  },
  {
   "cell_type": "markdown",
   "metadata": {},
   "source": [
    "__Q3:__ Consider the program below: \n",
    "```Python\n",
    "quote='One giant leap for mankind.'\n",
    "s1=quote[:5]\n",
    "s2=quote[20:]\n",
    "s3=quote[6:9]\n",
    "s4=quote[23:len(quote)]\n",
    "s5=quote[6:6]\n",
    "s6=quote[:]\n",
    "```\n",
    "What character is assigned to each of the variables `s1`-`s6`?"
   ]
  },
  {
   "cell_type": "code",
   "execution_count": 6,
   "metadata": {},
   "outputs": [
    {
     "name": "stdout",
     "output_type": "stream",
     "text": [
      "One g\n",
      "ankind.\n",
      "ant\n",
      "ind.\n",
      "\n",
      "One giant leap for mankind.\n"
     ]
    }
   ],
   "source": [
    "quote='One giant leap for mankind.'\n",
    "s1=quote[:5]\n",
    "s2=quote[20:]\n",
    "s3=quote[6:9]\n",
    "s4=quote[23:len(quote)]\n",
    "s5=quote[6:6]\n",
    "s6=quote[:]\n",
    "\n",
    "print(s1)\n",
    "print(s2)\n",
    "print(s3)\n",
    "print(s4)\n",
    "print(s5)\n",
    "print(s6)"
   ]
  },
  {
   "cell_type": "markdown",
   "metadata": {},
   "source": [
    "__Q4:__ Given the following `String`\n",
    "```Python\n",
    "quote='Nobody puts baby in a corner.'\n",
    "```\n",
    "write statements that *index* and *slice* the `quote` and use concatenation (`+`) and repetition (`*`) to print each of the following new `String`s:\n",
    "- `yabba dabba do`\n",
    "- `No inner.`\n",
    "- `baboon`"
   ]
  },
  {
   "cell_type": "code",
   "execution_count": 106,
   "metadata": {},
   "outputs": [
    {
     "name": "stdout",
     "output_type": "stream",
     "text": [
      "yabba dabba do\n",
      "No inner.\n",
      "baboon\n"
     ]
    }
   ],
   "source": [
    "q = 'Nobody puts baby in a corner.'\n",
    "#print(len(q))\n",
    "print(q[5] + q[13:15] + q[12:14] + q[6] + q[4] + q[13:15] + q[12:14] + q[6] + q[4] + q[1])\n",
    "print(q[0:2] + q[6] + q[17:19] + q[25:29])\n",
    "print(q[2] + q[13:15] + q[1] * 2 + q[25])"
   ]
  },
  {
   "cell_type": "markdown",
   "metadata": {},
   "source": [
    "### String Traversals"
   ]
  },
  {
   "cell_type": "markdown",
   "metadata": {},
   "source": [
    "__Q5:__ Consider the statements given below:\n",
    "```Python\n",
    "letter = s[index]\n",
    "index = index + 2\n",
    "s = \"Schooled\"\n",
    "while index < len(s):\n",
    "print(str(index))\n",
    "index = 0\n",
    "```\n",
    "Reorder the above statement into a program that prints out every other character in `s`."
   ]
  },
  {
   "cell_type": "code",
   "execution_count": 27,
   "metadata": {},
   "outputs": [
    {
     "name": "stdout",
     "output_type": "stream",
     "text": [
      "S\n",
      "h\n",
      "o\n",
      "e\n"
     ]
    }
   ],
   "source": [
    "s = \"Schooled\"\n",
    "\n",
    "index = 0\n",
    "while index < len(s):\n",
    "    letter = s[index]\n",
    "    print(str(letter))\n",
    "    index = index + 2\n"
   ]
  },
  {
   "cell_type": "markdown",
   "metadata": {},
   "source": [
    "__Q6__: Consider the statements given below:\n",
    "```Python\n",
    "print(str(index))\n",
    "while index >= 0:\n",
    "index = len(s)\n",
    "s = \"was it a car or a cat i saw\"\n",
    "index = index - 1\n",
    "letter = s[index]\n",
    "```\n",
    "Reorder the above statements into a program that prints out every character in `s` in reverse order."
   ]
  },
  {
   "cell_type": "code",
   "execution_count": 31,
   "metadata": {},
   "outputs": [
    {
     "name": "stdout",
     "output_type": "stream",
     "text": [
      "w\n",
      "a\n",
      "s\n",
      " \n",
      "i\n",
      " \n",
      "t\n",
      "a\n",
      "c\n",
      " \n",
      "a\n",
      " \n",
      "r\n",
      "o\n",
      " \n",
      "r\n",
      "a\n",
      "c\n",
      " \n",
      "a\n",
      " \n",
      "t\n",
      "i\n",
      " \n",
      "s\n",
      "a\n",
      "w\n"
     ]
    }
   ],
   "source": [
    "s = \"was it a car or a cat i saw\"\n",
    "index = len(s)\n",
    "\n",
    "while index > 0:\n",
    "    index = index - 1\n",
    "    letter = s[index]\n",
    "    print(str(letter))"
   ]
  },
  {
   "cell_type": "markdown",
   "metadata": {},
   "source": [
    "__Q7:__ Write a function that takes a `String` as an argument and returns a `String` that is the reverse of its argument. So if the argument is `erised` then the function will return `desire`. Note: This differs from the program in __Q6__ because you must build a new `String` that is the reverse, not just print the characters in reverse order.  Hint: Start with an empty string and add characters to it similar to how the `get_acronym` example works."
   ]
  },
  {
   "cell_type": "code",
   "execution_count": 45,
   "metadata": {},
   "outputs": [],
   "source": [
    "def switchemFor(string):\n",
    "    rev = \"\"\n",
    "    bump = len(string) - 1\n",
    "    for letter in string:\n",
    "        rev = rev + string[bump]\n",
    "        bump = bump - 1\n",
    "    \n",
    "    return rev"
   ]
  },
  {
   "cell_type": "markdown",
   "metadata": {},
   "source": [
    "__Q8:__ Write a few automated tests for your function in __Q7__."
   ]
  },
  {
   "cell_type": "code",
   "execution_count": 46,
   "metadata": {},
   "outputs": [
    {
     "name": "stdout",
     "output_type": "stream",
     "text": [
      "success!\n"
     ]
    }
   ],
   "source": [
    "assert switchemFor(\"sexes\")==\"sexes\", \"Palindrome sexes is wrong!\"\n",
    "assert switchemFor(\"Let me melt metal\")==\"latem tlem em teL\", \"Lmmm is wrong.\"\n",
    "assert switchemFor(\"PSD\")==\"DSP\", \"PSD is wrong.\"\n",
    "print(\"success!\")"
   ]
  },
  {
   "cell_type": "markdown",
   "metadata": {},
   "source": [
    "__Q9:__ If you used a `for` loop in __Q7__ rewrite your function using a `while` loop.  If you used a `while` loop in __Q7__ rewrite your function now using a `for` loop."
   ]
  },
  {
   "cell_type": "code",
   "execution_count": 54,
   "metadata": {},
   "outputs": [],
   "source": [
    "def switchemWhile(string):\n",
    "    rev = \"\"\n",
    "    bump = len(string) - 1\n",
    "    while bump >= 0:\n",
    "        rev = rev + string[bump]\n",
    "        bump = bump - 1\n",
    "    return rev"
   ]
  },
  {
   "cell_type": "code",
   "execution_count": 55,
   "metadata": {},
   "outputs": [
    {
     "name": "stdout",
     "output_type": "stream",
     "text": [
      "success!\n"
     ]
    }
   ],
   "source": [
    "assert switchemWhile(\"sexes\")==\"sexes\", \"Palindrome sexes is wrong!\"\n",
    "assert switchemWhile(\"Let me melt metal\")==\"latem tlem em teL\", \"Lmmm is wrong.\"\n",
    "assert switchemWhile(\"PSD\")==\"DSP\", \"PSD is wrong.\"\n",
    "print(\"success!\")"
   ]
  },
  {
   "cell_type": "markdown",
   "metadata": {},
   "source": [
    "__Optional Challenge:__ Rewrite your function from __Q7__ using recursion."
   ]
  },
  {
   "cell_type": "code",
   "execution_count": null,
   "metadata": {},
   "outputs": [],
   "source": []
  },
  {
   "cell_type": "markdown",
   "metadata": {},
   "source": [
    "__Q10:__ Write a function called `jumble` that takes one `String` as an argument and returns the letters of that string *jumbled* up.  The *jumbled* up string will have the first letter, then the last, then the second, then the next to last, etc... For example, if the argument is `computer` then `jumble` will return `croemtpu`."
   ]
  },
  {
   "cell_type": "code",
   "execution_count": 1,
   "metadata": {},
   "outputs": [
    {
     "name": "stdout",
     "output_type": "stream",
     "text": [
      "mleat\n"
     ]
    }
   ],
   "source": [
    "def jumble(string):\n",
    "    newWord = \"\"\n",
    "    \n",
    "    for i in range(len(string)//2):\n",
    "        newWord = newWord + string[i] + string[len(string)- 1 - i]\n",
    "        #print(newWord)\n",
    "        \n",
    "    if len(string) % 2 == 1:\n",
    "        newWord = newWord + string[len(string) // 2]\n",
    "        \n",
    "    return newWord\n",
    "    \n",
    "print(jumble(\"metal\"))"
   ]
  },
  {
   "cell_type": "markdown",
   "metadata": {},
   "source": [
    "__Q11:__ Write some automated tests for your function in __Q10__.  Be sure to include a least one test that uses a string with an odd number of characters."
   ]
  },
  {
   "cell_type": "code",
   "execution_count": 158,
   "metadata": {},
   "outputs": [
    {
     "name": "stdout",
     "output_type": "stream",
     "text": [
      "success!\n"
     ]
    }
   ],
   "source": [
    "assert jumble(\"metal\")==\"mleat\", \"metal is wrong!\"\n",
    "assert jumble(\"cloven\")==\"cnleov\", \"cloven is wrong!\"\n",
    "assert jumble(\"computer\")==\"croemtpu\", \"computer is wrong.\"\n",
    "assert jumble(\"ham\")==\"hma\", \"ham is wrong.\"\n",
    "print(\"success!\")"
   ]
  },
  {
   "cell_type": "markdown",
   "metadata": {},
   "source": [
    "__Q12:__ Write a function that accepts one `String` as an argument and returns a `String` containing the first character of each word of its argument.  So if the argument was `Frankly, my dear, I don't give a damn.` then the function will return `FmdIdgad`."
   ]
  },
  {
   "cell_type": "code",
   "execution_count": 4,
   "metadata": {},
   "outputs": [
    {
     "data": {
      "text/plain": [
       "'ffff'"
      ]
     },
     "execution_count": 4,
     "metadata": {},
     "output_type": "execute_result"
    }
   ],
   "source": [
    "def find1st(string):\n",
    "    firstLets = string[0]\n",
    "    for i in range(len(string)):\n",
    "        #print(i)\n",
    "        if i != len(string) - 1 and string[i] == \" \" and string[i + 1] != \" \" :\n",
    "            firstLets = firstLets + string[i + 1]\n",
    "            #print(firstLets)\n",
    "    return firstLets\n",
    "\n",
    "find1st(\"f f f  f  \")"
   ]
  },
  {
   "cell_type": "markdown",
   "metadata": {},
   "source": [
    "__Q13:__ Write a few automated tests for you function in __Q12__."
   ]
  },
  {
   "cell_type": "code",
   "execution_count": 197,
   "metadata": {},
   "outputs": [
    {
     "name": "stdout",
     "output_type": "stream",
     "text": [
      "success!\n"
     ]
    }
   ],
   "source": [
    "assert find1st(\"metal\")==\"m\", \"metal is wrong!\"\n",
    "assert find1st(\"c ov n\")==\"con\", \"cloven is wrong!\"\n",
    "assert find1st(\"c m u er\")==\"cmue\", \"computer is wrong.\"\n",
    "assert find1st(\"ha m\")==\"hm\", \"ham is wrong.\"\n",
    "assert find1st(\"Frankly, my dear, I don't give a damn. \")== \"FmdIdgad\", \"Casablanca is wrong.\"\n",
    "assert find1st(\"Frankly, my de ar,  I  don't give a damn. \")== \"FmdaIdgad\", \"CasablancaII is wrong.\"\n",
    "print(\"success!\")"
   ]
  },
  {
   "cell_type": "markdown",
   "metadata": {},
   "source": [
    "__Q14:__ Write a function that *shuffles* two strings.  The function must accept two `String`s as arguments and return a new `String` that has alternating letters from the arguments.  For example, if the arguments are `cat` and `dog` then the function will return `cdaotg`.  Your function should handle strings that are of unequal length by shuffling as long as it can, and then using the rest of the letter from the longer string.  For example, if the arguments are `cat` and `mouse` then the function will return `cmaotuse`.\n",
    "\n",
    "Hint: Use an incremental development process and solve it first assuming the strings are equal length. Then try to handle the other cases."
   ]
  },
  {
   "cell_type": "code",
   "execution_count": 8,
   "metadata": {},
   "outputs": [],
   "source": [
    "def shuffle(str1, str2):\n",
    "    newWord = \"\"\n",
    "    minLen = min(len(str1), len(str2))\n",
    "    \n",
    "    for i in range(minLen):\n",
    "        #print(i)\n",
    "        newWord = newWord + str1[i] + str2[i]\n",
    "        #print(newWord)\n",
    "    \n",
    "    if len(str1) > len(str2):\n",
    "        strMax = str1\n",
    "        strMin = str2\n",
    "    elif len(str1) < len(str2):\n",
    "        strMax = str2\n",
    "        strMin = str1\n",
    "    \n",
    "    if len(str1) != len(str2):    \n",
    "        for j in range(len(strMax) - len(strMin)):\n",
    "            newWord = newWord + strMax[len(strMin) + j]\n",
    "    \n",
    "    return newWord    "
   ]
  },
  {
   "cell_type": "markdown",
   "metadata": {},
   "source": [
    "__Q15:__ Write a few automated tests for your function in __Q14__."
   ]
  },
  {
   "cell_type": "code",
   "execution_count": 9,
   "metadata": {},
   "outputs": [
    {
     "name": "stdout",
     "output_type": "stream",
     "text": [
      "success!\n"
     ]
    }
   ],
   "source": [
    "assert shuffle(\"aaa\", \"bbb\")==\"ababab\", \"aaa,bbb is wrong\"\n",
    "assert shuffle(\"bbb\", \"aaa\")==\"bababa\", \"bbb,aaa is wrong\"\n",
    "assert shuffle(\"aaa\", \"bbbbbb\")==\"abababbbb\", \"aaa,bbbbbb is wrong\"\n",
    "assert shuffle(\"aaaaaa\", \"bbb\")==\"abababaaa\", \"aaaaaa,bbb is wrong\"\n",
    "print(\"success!\")"
   ]
  },
  {
   "cell_type": "markdown",
   "metadata": {},
   "source": [
    "__Optional Challenge:__ Write a function similar to the one from __Q14__ but that also accepts an integer indicating the size of the shuffles.  For example, if the arguments are `school` and `houses` and the size of the shuffles is `3` then the function will return `schhouoolses`.  Also write a variety of automated tests to be sure your function handles things like different length strings, strings that are not a multiple of the shuffle size, shuffle sizes that are larger than the string lengths, etc."
   ]
  },
  {
   "cell_type": "code",
   "execution_count": null,
   "metadata": {},
   "outputs": [],
   "source": []
  },
  {
   "cell_type": "markdown",
   "metadata": {},
   "source": [
    "__Optional Challenge:__ Write a recursive function that checks if a string is a palindrome (i.e. it is the same forward as it is backwards.) For example, `madam` is a palindrome while `building` is not.  Hint: All strings with one character are palindromes and if the first and last characters in a string are the same, then the string might be a palindrome but you have to check. If you get that working for single word palindromes (like `madam`) extend your program to allow for but ignore spaces.  For example, `madam im adam` is a palindrome. To up the challenge even more, allow for but ignore case and punctuation too.  For example, `Madam I'm Adam` is a palindrome."
   ]
  },
  {
   "cell_type": "markdown",
   "metadata": {},
   "source": [
    "![Stop sign](stop.png)\n",
    "End of Class 26 material."
   ]
  },
  {
   "cell_type": "markdown",
   "metadata": {},
   "source": [
    "### Searching Patterns"
   ]
  },
  {
   "cell_type": "markdown",
   "metadata": {},
   "source": [
    "__Q16:__ Consider the statements given below:\n",
    "```Python\n",
    "index = index + 1\n",
    "index=0\n",
    "if char=='A' or char=='E' or char=='I' or char =='O' or char=='U':\n",
    "def get_vowel(s):\n",
    "return 'X'\n",
    "char=s[index]\n",
    "while index < len(s):\n",
    "return char  \n",
    "```\n",
    "Reorder the above statements into a function that returns the first vowel that appears in the string `s` or the letter `X` if `s` contains no vowels."
   ]
  },
  {
   "cell_type": "code",
   "execution_count": 12,
   "metadata": {},
   "outputs": [
    {
     "data": {
      "text/plain": [
       "'O'"
      ]
     },
     "execution_count": 12,
     "metadata": {},
     "output_type": "execute_result"
    }
   ],
   "source": [
    "def get_vowel(s):\n",
    "    index=0\n",
    "    while index < len(s):\n",
    "        char=s[index]\n",
    "        if char=='A' or char=='E' or char=='I' or char =='O' or char=='U':\n",
    "            return char\n",
    "        index = index + 1 \n",
    "    return 'X'\n",
    "\n",
    "get_vowel(\"LOUISA\")"
   ]
  },
  {
   "cell_type": "markdown",
   "metadata": {},
   "source": [
    "Consider the `bad_get_vowel` function below that is similar to the `get_vowel` from above, except that it contains a common novice programmer mistake that prevents it from working correctly:"
   ]
  },
  {
   "cell_type": "code",
   "execution_count": 13,
   "metadata": {
    "deletable": false,
    "editable": false
   },
   "outputs": [],
   "source": [
    "def bad_get_vowel(line):\n",
    "    index = 0\n",
    "    while index < len(line):\n",
    "        char = line[index]\n",
    "        if char=='A' or char=='E' or char=='I' or char =='O' or char=='U':\n",
    "            return char\n",
    "        else:\n",
    "            return 'X'\n",
    "        \n",
    "        index = index + 1\n",
    "        \n",
    "    return 'X'"
   ]
  },
  {
   "cell_type": "markdown",
   "metadata": {},
   "source": [
    "__Q17__ Give an example of of a string for which `bad_get_vowel` works correctly and returns the first vowel that it finds in the `line`."
   ]
  },
  {
   "cell_type": "markdown",
   "metadata": {},
   "source": [
    "line = \"OMAR\""
   ]
  },
  {
   "cell_type": "markdown",
   "metadata": {},
   "source": [
    "__Q18:__ Give an example of a string for which `bad_get_vowel` does not work correctly and returns `X` even if there is a vowel in `line`."
   ]
  },
  {
   "cell_type": "markdown",
   "metadata": {},
   "source": [
    "line = \"LOUISA\""
   ]
  },
  {
   "cell_type": "markdown",
   "metadata": {},
   "source": [
    "__Q19:__ Give an example of a string for which `bad_get_vowel` correctly returns `X`."
   ]
  },
  {
   "cell_type": "markdown",
   "metadata": {},
   "source": [
    "line = \"R.S.V.P.\""
   ]
  },
  {
   "cell_type": "markdown",
   "metadata": {},
   "source": [
    "__Q20:__ Explain why the `bad_get_vowel` function does not work correctly."
   ]
  },
  {
   "cell_type": "markdown",
   "metadata": {},
   "source": [
    "The `if` statement on line 5 of `bad_get_vowel` will cause the function to return a vowel if the vowel is the first character in the string. If the first character in the string  is not a vowel, however, the `else` on line 7 will cause `bad_get_vowel` to retrun an X whether or not any of the string's remaining characters include 1 or more vowels."
   ]
  },
  {
   "cell_type": "markdown",
   "metadata": {},
   "source": [
    "__Q21:__ Write function named `decimal_index` that accepts a `String` argument containing a decimal number (e.g. `\"235.3920\"`) and returns the index at which the decimal point (`.`) appears. If the argument does not contain a decimal point your function should return `-1`."
   ]
  },
  {
   "cell_type": "code",
   "execution_count": 21,
   "metadata": {},
   "outputs": [
    {
     "data": {
      "text/plain": [
       "3"
      ]
     },
     "execution_count": 21,
     "metadata": {},
     "output_type": "execute_result"
    }
   ],
   "source": [
    "def decimal_index(floatString):\n",
    "    for i in range(len(floatString)):\n",
    "        if floatString[i] == \".\":\n",
    "            return i\n",
    "    return -1"
   ]
  },
  {
   "cell_type": "markdown",
   "metadata": {},
   "source": [
    "__Q22:__ Write a few automated tests for your `decimal_index` function."
   ]
  },
  {
   "cell_type": "code",
   "execution_count": 22,
   "metadata": {},
   "outputs": [
    {
     "name": "stdout",
     "output_type": "stream",
     "text": [
      "success!\n"
     ]
    }
   ],
   "source": [
    "assert decimal_index(\"123.456\")==3, \"123.456 is wrong\"\n",
    "assert decimal_index(\".123456\")==0, \".123456 is wrong\"\n",
    "assert decimal_index(\"12345.6\")==5, \"12345.6 is wrong\"\n",
    "assert decimal_index(\"1.2345.6\")==1, \"1.2345.6 is wrong\"\n",
    "print(\"success!\")"
   ]
  },
  {
   "cell_type": "markdown",
   "metadata": {},
   "source": [
    "__Q23:__ Write a function that accepts a `String` as an argument and returns the length of the first word that appears in the string. For this problem you can assume that the string does not contain any punctuation and that if there is more than one word in the string a space appears between every word."
   ]
  },
  {
   "cell_type": "code",
   "execution_count": 107,
   "metadata": {},
   "outputs": [],
   "source": [
    "def isoWord1(string):\n",
    "    spaceFound = False\n",
    "    spaceCheck = 0\n",
    "    word = \"\"\n",
    "    \n",
    "    while spaceFound == False:\n",
    "        if string[spaceCheck] == \" \" or spaceCheck == len(string) - 1:\n",
    "            spaceFound = True\n",
    "        else:\n",
    "            word = word + string[spaceCheck]\n",
    "        spaceCheck = spaceCheck + 1\n",
    "    \n",
    "    return len(word)"
   ]
  },
  {
   "cell_type": "markdown",
   "metadata": {},
   "source": [
    "__Q24:__ Write a few automated tests for your function from __Q23__."
   ]
  },
  {
   "cell_type": "code",
   "execution_count": 66,
   "metadata": {},
   "outputs": [
    {
     "name": "stdout",
     "output_type": "stream",
     "text": [
      "success!\n"
     ]
    }
   ],
   "source": [
    "assert isoWord1(\"dog cat\")==3, \"dog cat is wrong\"\n",
    "assert isoWord1(\"dogcat cat cat\")==6, \"dogcat cat cat is wrong\"\n",
    "assert isoWord1(\"dogca t\")==5, \"dogca t is wrong\"\n",
    "assert isoWord1(\" dogcat\")==0, \" dogcat is wrong\"\n",
    "print(\"success!\")"
   ]
  },
  {
   "cell_type": "markdown",
   "metadata": {},
   "source": [
    "__Q25:__ Write a function that takes two `String` parameters and determines if the first string is contained in the second.  For example, if the string are `tap` and `catapult` the function will return `True`.  But if the strings are `dog` and `catapult` then the function will return `False`.  Hint: Consider starting by trying to determine if the first character of the first string appears in the second (i.e. does the `t` of `tap` appear in `catapult`?)  Then when you have that working, modify that program to check for the whole string `tap`.  "
   ]
  },
  {
   "cell_type": "code",
   "execution_count": 44,
   "metadata": {},
   "outputs": [],
   "source": [
    "def isIn(str1, str2):\n",
    "    i = 0\n",
    "    while i < len(str2):\n",
    "        if str1[0] == str2[i]:\n",
    "            if str1[0:len(str1) - 1] == str2[i:i + len(str1) - 1]:\n",
    "                return True\n",
    "        i = i + 1\n",
    "    \n",
    "    return False"
   ]
  },
  {
   "cell_type": "markdown",
   "metadata": {},
   "source": [
    "__Q26:__ Write a few automated tests for your function from __Q25__.  Be sure to consider cases where the first string is and is not in the second, when it appears at the beginning and the end of second and when the first string is longer than the second. "
   ]
  },
  {
   "cell_type": "code",
   "execution_count": 43,
   "metadata": {},
   "outputs": [
    {
     "name": "stdout",
     "output_type": "stream",
     "text": [
      "success!\n"
     ]
    }
   ],
   "source": [
    "assert isIn(\"cat\", \"cathode\")==True, \"cat cathode is wrong\"\n",
    "assert isIn(\"cat\", \"truncate\")==True, \"cat truncate is wrong\"\n",
    "assert isIn(\"cat\", \"  cat  \")==True, \"cat   cat   is wrong\"\n",
    "assert isIn(\"cat\", \"doggerel\")==False, \"cat doggerel is wrong\"\n",
    "assert isIn(\"cathode\", \"cat\")==False, \"cathode cat is wrong\"\n",
    "assert isIn(\"cat\", \"ducat\")==True, \"cat ducat is wrong\"\n",
    "print(\"success!\")"
   ]
  },
  {
   "cell_type": "markdown",
   "metadata": {},
   "source": [
    "### Aggregate Patterns"
   ]
  },
  {
   "cell_type": "markdown",
   "metadata": {},
   "source": [
    "__Q27:__ Consider the following statements:\n",
    "```Python\n",
    "sval = str(val)\n",
    "digit = int(sdigit)\n",
    "return max_digit\n",
    "if digit > max_digit:\n",
    "for sdigit in sval:\n",
    "def biggest_digit(val):\n",
    "max_digit = digit\n",
    "assert isinstance(val,int), \"val must be an int\"\n",
    "max_digit = int(sval[0])\n",
    "```\n",
    "\n",
    "Reorder the above statements into a function that returns the largest digit that appears in `val`"
   ]
  },
  {
   "cell_type": "code",
   "execution_count": 46,
   "metadata": {},
   "outputs": [
    {
     "data": {
      "text/plain": [
       "9"
      ]
     },
     "execution_count": 46,
     "metadata": {},
     "output_type": "execute_result"
    }
   ],
   "source": [
    "def biggest_digit(val):\n",
    "    assert isinstance(val,int), \"val must be an int\"\n",
    "    sval = str(val)\n",
    "    max_digit = int(sval[0])\n",
    "    for sdigit in sval:\n",
    "        digit = int(sdigit)\n",
    "        if digit > max_digit:\n",
    "            max_digit = digit\n",
    "    return max_digit\n",
    "\n",
    "biggest_digit(689)"
   ]
  },
  {
   "cell_type": "markdown",
   "metadata": {},
   "source": [
    "__Q28:__ Write a function that counts the number of words that appear in a string.  For this question you may assume that there is a single space between any two words."
   ]
  },
  {
   "cell_type": "code",
   "execution_count": 98,
   "metadata": {},
   "outputs": [],
   "source": [
    "def wordCount(string):\n",
    "    spaces = 0\n",
    "    for spaceCheck in string:\n",
    "        #print(spaceCheck)\n",
    "        if spaceCheck == \" \":\n",
    "            spaces = spaces + 1\n",
    "            \n",
    "    if string[0] == \" \":\n",
    "        spaces = spaces - 1\n",
    "    if string[len(string) - 1] == \" \":\n",
    "        spaces = spaces - 1\n",
    "    \n",
    "    words = spaces + 1\n",
    "    \n",
    "    return words"
   ]
  },
  {
   "cell_type": "markdown",
   "metadata": {},
   "source": [
    "__Q29:__ Write a few automated tests for your function from __Q28__."
   ]
  },
  {
   "cell_type": "code",
   "execution_count": 99,
   "metadata": {},
   "outputs": [
    {
     "name": "stdout",
     "output_type": "stream",
     "text": [
      "success!\n"
     ]
    }
   ],
   "source": [
    "assert wordCount(\"dog cat\")==2, \"dog cat is wrong\"\n",
    "assert wordCount(\"dogcat cat cat\")==3, \"dogcat cat cat is wrong\"\n",
    "assert wordCount(\"dogca t \")==2, \"dogca t is wrong\"\n",
    "assert wordCount(\" dog cat\")==2, \" dogcat is wrong\"\n",
    "print(\"success!\")"
   ]
  },
  {
   "cell_type": "markdown",
   "metadata": {},
   "source": [
    "__Q30:__ Write a function that takes a `String` as a parameter and returns the number of numeric digits that the string contains.  For example if the argument is `5 things 4u2` then the function will return `3`."
   ]
  },
  {
   "cell_type": "code",
   "execution_count": 108,
   "metadata": {},
   "outputs": [],
   "source": [
    "def digitsIn(string):\n",
    "    digCount = 0\n",
    "    for digCheck in string:\n",
    "        if \"0\" <= digCheck <= \"9\":\n",
    "            digCount = digCount + 1\n",
    "    \n",
    "    return digCount       "
   ]
  },
  {
   "cell_type": "markdown",
   "metadata": {},
   "source": [
    "__Q31:__ Write a few automated tests for your function from __Q30__. "
   ]
  },
  {
   "cell_type": "code",
   "execution_count": 105,
   "metadata": {},
   "outputs": [
    {
     "name": "stdout",
     "output_type": "stream",
     "text": [
      "success!\n"
     ]
    }
   ],
   "source": [
    "assert digitsIn(\"star69\")==2, \"star69 is wrong\"\n",
    "assert digitsIn(\"2good2be4you\")==3, \"2good2be4you is wrong\"\n",
    "assert digitsIn(\"11215\")==5, \"11215 is wrong\"\n",
    "assert digitsIn(\"catch22\")==2, \" dogcat is wrong\"\n",
    "print(\"success!\")"
   ]
  },
  {
   "cell_type": "markdown",
   "metadata": {},
   "source": [
    "__Optional Challenge:__ Write a function that computes the average length of the words that appear in a string.  For this question you may assume that there is a single space between any two words and that there is no punctuation in the string.  Hint: Use a `while` loop so that you have an `index` variable.  Also, start by solving the problem assuming there is an extra space on the end of the string.  Then when that works, modify the code to remove that assumption. Be sure to write some automated tests for your function."
   ]
  },
  {
   "cell_type": "code",
   "execution_count": null,
   "metadata": {},
   "outputs": [],
   "source": []
  },
  {
   "cell_type": "markdown",
   "metadata": {},
   "source": [
    "__Optional Challenge:__ Write a function that determines how many times one string appears within another.  For example the string `issi` appears twice in the string `mississippi`.  Be sure to write some automated tests for your function."
   ]
  },
  {
   "cell_type": "code",
   "execution_count": null,
   "metadata": {},
   "outputs": [],
   "source": []
  }
 ],
 "metadata": {
  "kernelspec": {
   "display_name": "Python 3",
   "language": "python",
   "name": "python3"
  },
  "language_info": {
   "codemirror_mode": {
    "name": "ipython",
    "version": 3
   },
   "file_extension": ".py",
   "mimetype": "text/x-python",
   "name": "python",
   "nbconvert_exporter": "python",
   "pygments_lexer": "ipython3",
   "version": "3.7.3"
  }
 },
 "nbformat": 4,
 "nbformat_minor": 2
}
